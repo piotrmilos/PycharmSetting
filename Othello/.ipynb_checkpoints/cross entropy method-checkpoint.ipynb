{
 "cells": [
  {
   "cell_type": "code",
   "execution_count": 1,
   "metadata": {
    "collapsed": false
   },
   "outputs": [],
   "source": [
    "from __future__ import print_function\n",
    "\n",
    "def tf_print(tensor):\n",
    "  def print_tensor(x):\n",
    "    print(x)\n",
    "    return x\n",
    "  print(tensor.name, \":\", end=' ')\n",
    "  log_op = tf.py_func(print_tensor, [tensor], [tensor.dtype])\n",
    "  with tf.control_dependencies(log_op):\n",
    "    return tf.identity(tensor)"
   ]
  },
  {
   "cell_type": "code",
   "execution_count": 2,
   "metadata": {
    "collapsed": false
   },
   "outputs": [
    {
     "ename": "ImportError",
     "evalue": "No module named tensorflow",
     "output_type": "error",
     "traceback": [
      "\u001b[0;31m---------------------------------------------------------------------------\u001b[0m",
      "\u001b[0;31mImportError\u001b[0m                               Traceback (most recent call last)",
      "\u001b[0;32m<ipython-input-2-6bcc3cefb57a>\u001b[0m in \u001b[0;36m<module>\u001b[0;34m()\u001b[0m\n\u001b[0;32m----> 1\u001b[0;31m \u001b[0;32mimport\u001b[0m \u001b[0mtensorflow\u001b[0m \u001b[0;32mas\u001b[0m \u001b[0mtf\u001b[0m\u001b[0;34m\u001b[0m\u001b[0m\n\u001b[0m\u001b[1;32m      2\u001b[0m \u001b[0;32mimport\u001b[0m \u001b[0mnumpy\u001b[0m \u001b[0;32mas\u001b[0m \u001b[0mnp\u001b[0m\u001b[0;34m\u001b[0m\u001b[0m\n\u001b[1;32m      3\u001b[0m \u001b[0;32mimport\u001b[0m \u001b[0mgym\u001b[0m\u001b[0;34m\u001b[0m\u001b[0m\n",
      "\u001b[0;31mImportError\u001b[0m: No module named tensorflow"
     ]
    }
   ],
   "source": [
    "import tensorflow as tf\n",
    "import numpy as np\n",
    "import gym"
   ]
  },
  {
   "cell_type": "code",
   "execution_count": 5,
   "metadata": {
    "collapsed": false
   },
   "outputs": [],
   "source": [
    "def get_action():\n",
    "  obs = tf.placeholder(tf.float32, shape=(5))\n",
    "  params = tf.placeholder(tf.float32, shape=(5))\n",
    "  action = tf.cast(tf.reduce_sum(tf.mul(params, obs)) > 0., tf.int32)\n",
    "  return action, obs, params"
   ]
  },
  {
   "cell_type": "code",
   "execution_count": 6,
   "metadata": {
    "collapsed": false
   },
   "outputs": [],
   "source": [
    "def evaluate(params_ev, env, action, obs_place, params_place, sess, render=False):\n",
    "  env.reset()\n",
    "  assert(env.action_space.n == 2)\n",
    "  first_action = env.action_space.sample()\n",
    "  obs, rew, done, _ = env.step(first_action)\n",
    "  obs = np.append(obs, 1.)\n",
    "  reward = rew\n",
    "  it = 0\n",
    "  while not done:\n",
    "    if reward >= 1000:\n",
    "      break\n",
    "    if render:\n",
    "      env.render()\n",
    "    action_eval = sess.run(action, feed_dict={obs_place: obs, params_place: params_ev})\n",
    "    obs, rew, done, _ = env.step(action_eval)\n",
    "    obs = np.append(obs, 1.)\n",
    "    if render:\n",
    "      print(obs, rew, done)\n",
    "    reward += rew\n",
    "  env.close()\n",
    "  return np.append(params_ev, reward), reward"
   ]
  },
  {
   "cell_type": "code",
   "execution_count": 7,
   "metadata": {
    "collapsed": false
   },
   "outputs": [],
   "source": [
    "def sample_policy_params(mu, sigma):\n",
    "  size = mu.get_shape()\n",
    "  assert size == sigma.get_shape()\n",
    "  return tf.random_normal(size, mu, stddev=(sigma + 1e-10), dtype=tf.float32)"
   ]
  },
  {
   "cell_type": "code",
   "execution_count": 8,
   "metadata": {
    "collapsed": false
   },
   "outputs": [],
   "source": [
    "def update_parameters(mu, sigma, best_params):\n",
    "  new_mu = tf.reduce_mean(best_params, 0)\n",
    "  mu_ass = tf.assign(mu, new_mu)\n",
    "  diff = tf.squared_difference(best_params, new_mu)\n",
    "  std = tf.sqrt(tf.reduce_mean(diff, 0))\n",
    "  sigma_ass = tf.assign(sigma, std)\n",
    "  return mu_ass, sigma_ass"
   ]
  },
  {
   "cell_type": "code",
   "execution_count": 9,
   "metadata": {
    "collapsed": false
   },
   "outputs": [],
   "source": [
    "def run_and_update(env, eval_results, params, action, params_place, obs_place, update_op, res_place, i_place, sess, n, size=5):\n",
    "  sum_reward = 0.\n",
    "  for i in range(n):\n",
    "    params_ev = sess.run(params)\n",
    "    res, rew = evaluate(params_ev, env, action, obs_place, params_place, sess)\n",
    "    sum_reward += rew\n",
    "    sess.run(update_op, feed_dict={res_place: res, i_place: i})\n",
    "    print('.', end='') \n",
    "\n",
    "  print(sum_reward)"
   ]
  },
  {
   "cell_type": "code",
   "execution_count": 10,
   "metadata": {
    "collapsed": false
   },
   "outputs": [],
   "source": [
    "def get_update_op(eval_results, size=5):\n",
    "  res_place = tf.placeholder(tf.float32, shape=(size+1))\n",
    "  i_place = tf.placeholder(tf.int32, shape=())\n",
    "  update_op = tf.scatter_update(eval_results, [i_place], tf.cast(tf.reshape(res_place, [1, size+1]), tf.float32))\n",
    "  return update_op, res_place, i_place"
   ]
  },
  {
   "cell_type": "code",
   "execution_count": 11,
   "metadata": {
    "collapsed": false
   },
   "outputs": [],
   "source": [
    "def get_best_params(eval_results, k, size=5):\n",
    "  eval_trans = tf.transpose(eval_results)\n",
    "  best = tf.nn.top_k(eval_trans, k=k)\n",
    "  best_ind = best.indices[size]\n",
    "  best_params = tf.gather(eval_results, best_ind)\n",
    "  return tf.slice(best_params, [0, 0], [k, size])"
   ]
  },
  {
   "cell_type": "code",
   "execution_count": 12,
   "metadata": {
    "collapsed": false
   },
   "outputs": [],
   "source": [
    "def get_session():\n",
    "  config = tf.ConfigProto(operation_timeout_in_ms=10000,\n",
    "                          log_device_placement=True)\n",
    "  return tf.Session(config=config)"
   ]
  },
  {
   "cell_type": "code",
   "execution_count": 1,
   "metadata": {
    "collapsed": true
   },
   "outputs": [
    {
     "ename": "NameError",
     "evalue": "name 'gym' is not defined",
     "output_type": "error",
     "traceback": [
      "\u001b[0;31m---------------------------------------------------------------------------\u001b[0m\n\u001b[0;31mNameError\u001b[0m                                 Traceback (most recent call last)",
      "\u001b[0;32m<ipython-input-1-3762a4fa01f0>\u001b[0m in \u001b[0;36m<module>\u001b[0;34m()\u001b[0m\n\u001b[0;32m----> 1\u001b[0;31m \u001b[0menv\u001b[0m \u001b[0;34m=\u001b[0m \u001b[0mgym\u001b[0m\u001b[0;34m.\u001b[0m\u001b[0mmake\u001b[0m\u001b[0;34m(\u001b[0m\u001b[0;34m\"CartPole-v1\"\u001b[0m\u001b[0;34m)\u001b[0m\u001b[0;34m\u001b[0m\u001b[0m\n\u001b[0m\u001b[1;32m      2\u001b[0m \u001b[0mn\u001b[0m\u001b[0;34m=\u001b[0m\u001b[0;36m40\u001b[0m\u001b[0;34m\u001b[0m\u001b[0m\n\u001b[1;32m      3\u001b[0m \u001b[0mp\u001b[0m\u001b[0;34m=\u001b[0m\u001b[0;36m20\u001b[0m\u001b[0;34m\u001b[0m\u001b[0m\n\u001b[1;32m      4\u001b[0m \u001b[0mrounds\u001b[0m\u001b[0;34m=\u001b[0m\u001b[0;36m10\u001b[0m\u001b[0;34m\u001b[0m\u001b[0m\n\u001b[1;32m      5\u001b[0m \u001b[0msize\u001b[0m\u001b[0;34m=\u001b[0m\u001b[0;36m5\u001b[0m\u001b[0;34m\u001b[0m\u001b[0m\n",
      "\u001b[0;31mNameError\u001b[0m: name 'gym' is not defined"
     ]
    }
   ],
   "source": [
    "env = gym.make(\"CartPole-v1\")\n",
    "n=40\n",
    "p=20\n",
    "rounds=10\n",
    "size=5\n",
    "\n",
    "with get_session() as sess:\n",
    "  mu = tf.Variable([0.] * 5, dtype=tf.float32, name=\"mu\")\n",
    "  sigma = tf.Variable([100.] * 5, dtype=tf.float32, name=\"sigma\")\n",
    "  eval_results = tf.Variable(np.zeros([n, 5+1]), dtype=tf.float32, name=\"eval_res\")\n",
    "  sess.run(tf.initialize_all_variables())\n",
    "  policy_choice = sample_policy_params(mu, sigma)\n",
    "  best_params_op = get_best_params(eval_results, (p*n)/100)\n",
    "  mu_ass_op, sigma_ass_op = update_parameters(mu, sigma, best_params_op)\n",
    "  action, obs_place, params_place = get_action()\n",
    "  update_op, res_place, i_place = get_update_op(eval_results)\n",
    "  \n",
    "  for i in range(rounds):\n",
    "    run_and_update(env, eval_results, policy_choice, action, obs_place, params_place, update_op, res_place, i_place, sess, n)\n",
    "    print(sess.run([mu_ass_op, sigma_ass_op]))\n",
    "    if i == 0:\n",
    "      writer = tf.train.SummaryWriter(\"/tmp/cem2\", sess.graph)\n",
    "\n",
    "  params_ev = sess.run(policy_choice)\n",
    "  env.monitor.start('/tmp/cem-vid',force=True)\n",
    "  res = evaluate(params_ev, env, action, obs_place, params_place, sess, True)\n",
    "  env.close()\n",
    "  env.render()\n",
    "  print(res[1])\n",
    "  \n",
    "env.monitor.close()\n",
    "env.render(close=True)"
   ]
  }
 ],
 "metadata": {
  "anaconda-cloud": {},
  "kernelspec": {
   "display_name": "Python [default]",
   "language": "python",
   "name": "python2"
  },
  "language_info": {
   "codemirror_mode": {
    "name": "ipython",
    "version": 2
   },
   "file_extension": ".py",
   "mimetype": "text/x-python",
   "name": "python",
   "nbconvert_exporter": "python",
   "pygments_lexer": "ipython2",
   "version": "2.7.12"
  }
 },
 "nbformat": 4,
 "nbformat_minor": 0
}
